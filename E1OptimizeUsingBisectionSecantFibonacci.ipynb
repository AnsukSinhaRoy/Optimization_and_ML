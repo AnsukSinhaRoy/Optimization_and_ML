{
 "cells": [
  {
   "cell_type": "code",
   "execution_count": 12,
   "metadata": {},
   "outputs": [
    {
     "name": "stdout",
     "output_type": "stream",
     "text": [
      "Optimum point (Bisection): x = 0.9999995231628418, f(x) = -0.9999999999997726\n"
     ]
    }
   ],
   "source": [
    "def bisection_optimize(f, a, b, tol=1e-6, max_iter=1000):\n",
    "    \n",
    "    def derivative(f, x, h=1e-5):\n",
    "        return (f(x + h) - f(x - h)) / (2 * h)\n",
    "\n",
    "    f_dash_a = derivative(f, a)\n",
    "    f_dash_b = derivative(f, b)\n",
    "\n",
    "    if f_dash_a * f_dash_b >= 0:\n",
    "        print(\"No optimizer in the given range as f'(a) * f'(b) >= 0.\")\n",
    "        return None\n",
    "\n",
    "    # Perform the bisection process\n",
    "    for _ in range(max_iter):\n",
    "        c = (a + b) / 2\n",
    "        f_dash_c = derivative(f, c)\n",
    "\n",
    "        if abs(f_dash_c) < tol:\n",
    "            return c\n",
    "\n",
    "        if f_dash_c*f_dash_a > 0 and f_dash_c*f_dash_b < 0 :\n",
    "            a = c\n",
    "        else:\n",
    "            b = c\n",
    "\n",
    "    return (a + b) / 2\n",
    "\n",
    "# Example usage\n",
    "if __name__ == \"__main__\":\n",
    "    \n",
    "\n",
    "    def f(x):\n",
    "        return x**2-2*x \n",
    "    a, b = -1, 2\n",
    "\n",
    "\n",
    "    optimum = bisection_optimize(f, a, b)\n",
    "\n",
    "    if optimum is not None:\n",
    "        print(f\"Optimum point (Bisection): x = {optimum}, f(x) = {f(optimum)}\")\n"
   ]
  },
  {
   "cell_type": "code",
   "execution_count": 21,
   "metadata": {},
   "outputs": [
    {
     "name": "stdout",
     "output_type": "stream",
     "text": [
      "Maximum iterations reached. Last estimate: x = 1.009090, f(x) = -0.999917\n"
     ]
    }
   ],
   "source": [
    "def fibonacci_search(f, a, b, epsilon=1e-6, max_iter=1000):\n",
    "    F = [0, 1]\n",
    "    while F[-1] < (b - a) / epsilon:\n",
    "        F.append(F[-1] + F[-2])  # Fibonacci recurrence relation\n",
    "    \n",
    "    k = len(F) - 1  \n",
    "\n",
    "    for iter in range(max_iter):\n",
    "        x1 = a + (F[k-2] / F[k]) * (b - a)\n",
    "        x2 = a + (F[k-1] / F[k]) * (b - a)\n",
    "        \n",
    "        f1 = f(x1)\n",
    "        f2 = f(x2)\n",
    "        \n",
    "        if f1 < f2:\n",
    "            b = x2  # Min lies in [a, x2]\n",
    "        elif f1 > f2:\n",
    "            a = x1  # Min lies in [x1, b]\n",
    "        else:\n",
    "            # f1 == f2, update either a or b\n",
    "            a = x1  # Or b = x2, either works\n",
    "        \n",
    "        k -= 1\n",
    "        \n",
    "        if (b - a) < epsilon:\n",
    "            optimum = (a + b) / 2\n",
    "            print(f\"Optimum point (Fibonacci Search): x = {optimum:.6f}, f(x) = {f(optimum):.6f}\")\n",
    "            return optimum\n",
    "    \n",
    "    optimum = (a + b) / 2\n",
    "    print(f\"Maximum iterations reached. Last estimate: x = {optimum:.6f}, f(x) = {f(optimum):.6f}\")\n",
    "    return optimum\n",
    "\n",
    "# Example usage:\n",
    "f = lambda x: x**2 - 2*x  # Function to minimize\n",
    "a = -1  # Left endpoint of the interval\n",
    "b = 2  # Right endpoint of the interval\n",
    "epsilon = 1e-6  # Desired precision\n",
    "max_iter = 7  # Maximum iterations\n",
    "\n",
    "result = fibonacci_search(f, a, b, epsilon, max_iter)\n"
   ]
  },
  {
   "cell_type": "code",
   "execution_count": 16,
   "metadata": {},
   "outputs": [
    {
     "name": "stdout",
     "output_type": "stream",
     "text": [
      "Secant Method:\n",
      "Optimum point (Secant): x = 0.9999999999962992, f(x) = -1.0\n",
      "\n"
     ]
    }
   ],
   "source": [
    "def secant_optimize(f, x0, x1, tol=1e-6, max_iter=100):\n",
    "    def derivative(f, x, h=1e-5):\n",
    "        return (f(x + h) - f(x - h)) / (2 * h)\n",
    "\n",
    "    for _ in range(max_iter):\n",
    "        f_dash_x0 = derivative(f, x0)\n",
    "        f_dash_x1 = derivative(f, x1)\n",
    "\n",
    "        if abs(f_dash_x1) < tol:  # Stopping criterion\n",
    "            return x1\n",
    "\n",
    "        # Secant method update\n",
    "        x_new = x1 - f_dash_x1 * (x1 - x0) / (f_dash_x1 - f_dash_x0)\n",
    "\n",
    "        # Update points\n",
    "        x0, x1 = x1, x_new\n",
    "\n",
    "    return x1\n",
    "\n",
    "if __name__ == \"__main__\":\n",
    "    def f(x):\n",
    "        return x**2 - 2*x\n",
    "\n",
    "    a, b = -1, 2\n",
    "\n",
    "    epsilon = 1e-6\n",
    "    max_iter = 1000\n",
    "    print(\"Secant Method:\")\n",
    "    secant_optimum = secant_optimize(f, a, b, tol=epsilon, max_iter=max_iter)\n",
    "    print(f\"Optimum point (Secant): x = {secant_optimum}, f(x) = {f(secant_optimum)}\\n\")\n"
   ]
  }
 ],
 "metadata": {
  "kernelspec": {
   "display_name": "venv",
   "language": "python",
   "name": "python3"
  },
  "language_info": {
   "codemirror_mode": {
    "name": "ipython",
    "version": 3
   },
   "file_extension": ".py",
   "mimetype": "text/x-python",
   "name": "python",
   "nbconvert_exporter": "python",
   "pygments_lexer": "ipython3",
   "version": "3.12.0"
  }
 },
 "nbformat": 4,
 "nbformat_minor": 2
}
